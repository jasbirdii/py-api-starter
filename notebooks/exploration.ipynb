{
  "cells": [
    {
      "cell_type": "markdown",
      "metadata": {},
      "source": [
        "# Data Exploration Notebook\n",
        "\n",
        "This notebook demonstrates how to connect to the database and explore data using pandas/polars.\n"
      ]
    },
    {
      "cell_type": "code",
      "execution_count": null,
      "metadata": {},
      "outputs": [],
      "source": [
        "import os\n",
        "import pandas as pd\n",
        "import polars as pl\n",
        "from sqlalchemy import create_engine\n",
        "from sqlmodel import SQLModel, Session, select\n",
        "from app.models import User, Item, Payment\n",
        "from app.config import settings\n",
        "\n",
        "print(f\"Database URL: {settings.DATABASE_URL}\")\n",
        "print(f\"Environment: {settings.ENV}\")\n"
      ]
    }
  ],
  "metadata": {
    "language_info": {
      "name": "python"
    }
  },
  "nbformat": 4,
  "nbformat_minor": 2
}
